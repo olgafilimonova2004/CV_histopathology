{
  "nbformat": 4,
  "nbformat_minor": 0,
  "metadata": {
    "colab": {
      "provenance": []
    },
    "kernelspec": {
      "name": "python3",
      "display_name": "Python 3"
    },
    "language_info": {
      "name": "python"
    }
  },
  "cells": [
    {
      "cell_type": "code",
      "source": [
        "from google.colab import drive\n",
        "drive.mount('/content/drive')"
      ],
      "metadata": {
        "colab": {
          "base_uri": "https://localhost:8080/"
        },
        "id": "3z2_6VjYALN1",
        "outputId": "d920a9a8-303d-47f8-e604-753ea9129860",
        "collapsed": true
      },
      "execution_count": null,
      "outputs": [
        {
          "output_type": "stream",
          "name": "stdout",
          "text": [
            "Drive already mounted at /content/drive; to attempt to forcibly remount, call drive.mount(\"/content/drive\", force_remount=True).\n"
          ]
        }
      ]
    },
    {
      "cell_type": "code",
      "source": [
        "pip install albumentations"
      ],
      "metadata": {
        "colab": {
          "base_uri": "https://localhost:8080/"
        },
        "collapsed": true,
        "id": "fa8eq2Ifjne4",
        "outputId": "2d36a5d3-6294-447b-be33-fe360943e205"
      },
      "execution_count": null,
      "outputs": [
        {
          "output_type": "stream",
          "name": "stdout",
          "text": [
            "Requirement already satisfied: albumentations in /usr/local/lib/python3.11/dist-packages (2.0.8)\n",
            "Requirement already satisfied: numpy>=1.24.4 in /usr/local/lib/python3.11/dist-packages (from albumentations) (2.0.2)\n",
            "Requirement already satisfied: scipy>=1.10.0 in /usr/local/lib/python3.11/dist-packages (from albumentations) (1.15.3)\n",
            "Requirement already satisfied: PyYAML in /usr/local/lib/python3.11/dist-packages (from albumentations) (6.0.2)\n",
            "Requirement already satisfied: pydantic>=2.9.2 in /usr/local/lib/python3.11/dist-packages (from albumentations) (2.11.7)\n",
            "Requirement already satisfied: albucore==0.0.24 in /usr/local/lib/python3.11/dist-packages (from albumentations) (0.0.24)\n",
            "Requirement already satisfied: opencv-python-headless>=4.9.0.80 in /usr/local/lib/python3.11/dist-packages (from albumentations) (4.12.0.88)\n",
            "Requirement already satisfied: stringzilla>=3.10.4 in /usr/local/lib/python3.11/dist-packages (from albucore==0.0.24->albumentations) (3.12.5)\n",
            "Requirement already satisfied: simsimd>=5.9.2 in /usr/local/lib/python3.11/dist-packages (from albucore==0.0.24->albumentations) (6.5.0)\n",
            "Requirement already satisfied: annotated-types>=0.6.0 in /usr/local/lib/python3.11/dist-packages (from pydantic>=2.9.2->albumentations) (0.7.0)\n",
            "Requirement already satisfied: pydantic-core==2.33.2 in /usr/local/lib/python3.11/dist-packages (from pydantic>=2.9.2->albumentations) (2.33.2)\n",
            "Requirement already satisfied: typing-extensions>=4.12.2 in /usr/local/lib/python3.11/dist-packages (from pydantic>=2.9.2->albumentations) (4.14.1)\n",
            "Requirement already satisfied: typing-inspection>=0.4.0 in /usr/local/lib/python3.11/dist-packages (from pydantic>=2.9.2->albumentations) (0.4.1)\n"
          ]
        }
      ]
    },
    {
      "cell_type": "code",
      "source": [
        "import os\n",
        "import albumentations as A\n",
        "from albumentations.pytorch import ToTensorV2\n",
        "import numpy as np\n",
        "import cv2\n",
        "from PIL import Image\n",
        "import random\n",
        "\n",
        "base_dir = \"/content/drive/MyDrive/project_lymphoma/SSL\"\n",
        "\n",
        "for subdir in [\"images\", \"masks\", \"augmentation/images\", \"augmentation/masks\"]:\n",
        "    os.makedirs(f\"{base_dir}/{subdir}\", exist_ok=True)\n",
        "\n",
        "npy_files_path = []\n",
        "for dirpath, _, filenames in os.walk('/content/drive/MyDrive/project_lymphoma/lynsec/lynsec 3'):\n",
        "    for filename in filenames:\n",
        "        if filename.endswith('.npy'):\n",
        "            npy_files_path.append(os.path.join(dirpath, filename))\n",
        "\n",
        "for f in npy_files_path:\n",
        "    data = np.load(f)\n",
        "    base_name = os.path.splitext(os.path.basename(f))[0]\n",
        "\n",
        "\n",
        "    original_image = data[..., :3].astype(np.uint8)\n",
        "    mask_channel = data[..., 4]\n",
        "    original_mask = (mask_channel == 1).astype(np.uint8) * 255\n",
        "\n",
        "    Image.fromarray(original_image).save(f\"{base_dir}/images/{base_name}.png\")\n",
        "    Image.fromarray(original_mask).save(f\"{base_dir}/masks/{base_name}_mask.png\")\n",
        "\n",
        "\n",
        "    for aug_idx in range(10):\n",
        "\n",
        "        transform = A.ReplayCompose([A.RandomCrop(width=256, height=256, p=1.0),\n",
        "            A.HorizontalFlip(p=0.5),\n",
        "            A.VerticalFlip(p=0.5),\n",
        "            A.ColorJitter(brightness=random.uniform(0.01, 0.3), contrast=random.uniform(0.1, 0.03), saturation=random.uniform(0.01, 0.4), hue=random.uniform(0.01, 0.1), p=0.5),\n",
        "            A.GaussianBlur(blur_limit=(3, 3), sigma_limit=(random.uniform(0.025, 0.1), 0.5), p=0.5),\n",
        "        ])\n",
        "\n",
        "        augmented = transform(image=original_image, mask=original_mask)\n",
        "        aug_image = augmented[\"image\"].astype(np.uint8)\n",
        "        aug_mask = augmented[\"mask\"].astype(np.uint8)\n",
        "\n",
        "\n",
        "        replay = augmented[\"replay\"]\n",
        "        applied = [t[\"__class_fullname__\"].split(\".\")[-1] for t in replay[\"transforms\"] if t[\"applied\"]]\n",
        "\n",
        "        suffix = \"_\".join(applied) if applied else \"no_aug\"\n",
        "\n",
        "\n",
        "        image_subdir = f\"{base_dir}/augmentation/images/{base_name}\"\n",
        "        mask_subdir = f\"{base_dir}/augmentation/masks/{base_name}\"\n",
        "        os.makedirs(image_subdir, exist_ok=True)\n",
        "        os.makedirs(mask_subdir, exist_ok=True)\n",
        "\n",
        "        aug_image_name = f\"{base_name}_aug{aug_idx}_{suffix}.png\"\n",
        "        aug_mask_name = f\"{base_name}_aug{aug_idx}_{suffix}_mask.png\"\n",
        "\n",
        "        Image.fromarray(aug_image).save(os.path.join(image_subdir, aug_image_name))\n",
        "        Image.fromarray(aug_mask).save(os.path.join(mask_subdir, aug_mask_name))\n"
      ],
      "metadata": {
        "collapsed": true,
        "id": "iUj5F1ylsdCi"
      },
      "execution_count": null,
      "outputs": []
    },
    {
      "cell_type": "code",
      "source": [],
      "metadata": {
        "id": "JZ6ayGvrl1D4"
      },
      "execution_count": null,
      "outputs": []
    }
  ]
}